{
 "cells": [
  {
   "cell_type": "code",
   "execution_count": 1,
   "id": "471dc0e8",
   "metadata": {},
   "outputs": [],
   "source": [
    "import re"
   ]
  },
  {
   "cell_type": "code",
   "execution_count": 4,
   "id": "5fc27c85",
   "metadata": {},
   "outputs": [
    {
     "name": "stdout",
     "output_type": "stream",
     "text": [
      "You are Anoop. And your age is 2000.\n",
      "I usually run with the try block\n",
      "I alway run.\n"
     ]
    }
   ],
   "source": [
    "try:\n",
    "    name = input('Enter your name:')\n",
    "    year_born = input('Year you born:')\n",
    "    age = 2025 - int(year_born)\n",
    "    print(f'You are {name}. And your age is {age}.')\n",
    "except TypeError:\n",
    "    print('Type error occur')\n",
    "except ValueError:\n",
    "    print('Value error occur')\n",
    "except ZeroDivisionError:\n",
    "    print('zero division error occur')\n",
    "else:\n",
    "    print('I usually run with the try block')\n",
    "finally:\n",
    "    print('I alway run.')"
   ]
  },
  {
   "cell_type": "code",
   "execution_count": null,
   "id": "cf5b8bd5",
   "metadata": {},
   "outputs": [
    {
     "name": "stdout",
     "output_type": "stream",
     "text": [
      "6\n"
     ]
    }
   ],
   "source": [
    "def sum_all(a,b,c):\n",
    "    return a+b+c\n",
    "\n",
    "list=[1,2,3]\n",
    "print(sum_all(*list)) # unpacking list element"
   ]
  },
  {
   "cell_type": "code",
   "execution_count": 5,
   "id": "db628d87",
   "metadata": {},
   "outputs": [
    {
     "name": "stdout",
     "output_type": "stream",
     "text": [
      "Finland Sweden Norway ['Denmark', 'Iceland']\n",
      "1 [2, 3, 4, 5, 6] 7\n"
     ]
    }
   ],
   "source": [
    "countries = ['Finland', 'Sweden', 'Norway', 'Denmark', 'Iceland']\n",
    "fin, sw, nor, *rest = countries\n",
    "print(fin, sw, nor, rest)   # Finland Sweden Norway ['Denmark', 'Iceland']\n",
    "numbers = [1, 2, 3, 4, 5, 6, 7]\n",
    "one, *middle, last = numbers\n",
    "print(one, middle, last) "
   ]
  },
  {
   "cell_type": "markdown",
   "id": "8036a161",
   "metadata": {},
   "source": [
    "<h3>Enumerate</h3>"
   ]
  },
  {
   "cell_type": "code",
   "execution_count": 7,
   "id": "672e3a28",
   "metadata": {},
   "outputs": [
    {
     "name": "stdout",
     "output_type": "stream",
     "text": [
      "0 10\n",
      "1 20\n",
      "2 30\n",
      "3 40\n",
      "4 50\n"
     ]
    }
   ],
   "source": [
    "for index, item in enumerate([10,20,30,40,50]):\n",
    "    print(index,item)"
   ]
  },
  {
   "cell_type": "code",
   "execution_count": 9,
   "id": "e129be0b",
   "metadata": {},
   "outputs": [
    {
     "name": "stdout",
     "output_type": "stream",
     "text": [
      "The country:Sweden has been founded at index:1\n"
     ]
    }
   ],
   "source": [
    "for index, i in enumerate(countries):\n",
    "    if i==\"Sweden\":\n",
    "        print(f'The country:{i} has been founded at index:{index}')"
   ]
  },
  {
   "cell_type": "code",
   "execution_count": 12,
   "id": "fb1782d6",
   "metadata": {},
   "outputs": [
    {
     "name": "stdout",
     "output_type": "stream",
     "text": [
      "['Finland', 'Sweden', 'Norway', 'Denmark', 'Iceland']\n",
      "Estonia\n",
      "Russia\n"
     ]
    }
   ],
   "source": [
    "names = ['Finland', 'Sweden', 'Norway','Denmark','Iceland', 'Estonia','Russia']\n",
    "nordic_countries, es, ru = names[:5], names[5], names[6]\n",
    "print(nordic_countries)\n",
    "print(es)\n",
    "print(ru)"
   ]
  },
  {
   "cell_type": "code",
   "execution_count": 15,
   "id": "56b99ade",
   "metadata": {},
   "outputs": [
    {
     "name": "stdout",
     "output_type": "stream",
     "text": [
      "['6', '2', '0', '1', '9', '8', '2', '0', '2', '1']\n"
     ]
    }
   ],
   "source": [
    "regex_pattern = r'\\d'  # d is a special character which means digits\n",
    "txt = 'This regular expression example was made on December 6,  2019 and revised on July 8, 2021'\n",
    "matches = re.findall(regex_pattern, txt)\n",
    "print(matches)  # ['6', '2', '0', '1', '9', '8', '2', '0', '2', '1'], this is not what we want"
   ]
  },
  {
   "cell_type": "code",
   "execution_count": 16,
   "id": "ff0df762",
   "metadata": {},
   "outputs": [
    {
     "name": "stdout",
     "output_type": "stream",
     "text": [
      "['6', '2019', '8', '2021']\n"
     ]
    }
   ],
   "source": [
    "regex_pattern = r'\\d+'  # d is a special character which means digits one or more when + is present\n",
    "txt = 'This regular expression example was made on December 6,  2019 and revised on July 8, 2021'\n",
    "matches = re.findall(regex_pattern, txt)\n",
    "print(matches)  # ['6', '2', '0', '1', '9', '8', '2', '0', '2', '1'], this is not what we want"
   ]
  },
  {
   "cell_type": "code",
   "execution_count": 17,
   "id": "469ed296",
   "metadata": {},
   "outputs": [],
   "source": [
    "from collections import Counter\n",
    "paragraph = 'I love teaching. If you do not love teaching what else can you love. I love Python if you do not love something which can give you all the capabilities to develop an application what else can you love.'\n",
    "\n",
    "words = re.findall(r'\\b\\w+\\b', paragraph.lower())\n",
    "\n",
    "count=Counter(words)\n",
    "\n",
    "\n"
   ]
  },
  {
   "cell_type": "code",
   "execution_count": 19,
   "id": "f550da27",
   "metadata": {},
   "outputs": [
    {
     "name": "stdout",
     "output_type": "stream",
     "text": [
      "Counter({'love': 6, 'you': 5, 'can': 3, 'i': 2, 'teaching': 2, 'if': 2, 'do': 2, 'not': 2, 'what': 2, 'else': 2, 'python': 1, 'something': 1, 'which': 1, 'give': 1, 'all': 1, 'the': 1, 'capabilities': 1, 'to': 1, 'develop': 1, 'an': 1, 'application': 1})\n"
     ]
    }
   ],
   "source": [
    "print(count)"
   ]
  },
  {
   "cell_type": "code",
   "execution_count": 24,
   "id": "272bba2d",
   "metadata": {},
   "outputs": [
    {
     "name": "stdout",
     "output_type": "stream",
     "text": [
      "20\n"
     ]
    }
   ],
   "source": [
    "points = ['-12', '-4', '-3', '-1', '0', '4', '8']\n",
    "pt=[]\n",
    "for i in points:\n",
    "    pt.append(int(i))\n",
    "dist=abs(pt[0])+pt[-1]\n",
    "print(dist)"
   ]
  },
  {
   "cell_type": "code",
   "execution_count": null,
   "id": "b14110da",
   "metadata": {},
   "outputs": [
    {
     "name": "stdout",
     "output_type": "stream",
     "text": [
      "20\n"
     ]
    }
   ],
   "source": [
    "text='The position of some particles on the horizontal x-axis are -12, -4, -3 and -1 in the negative direction, 0 at origin, 4 and 8 in the positive direction. Extract these numbers from this whole text and find the distance between the two furthest particles.'\n",
    "regex_pattern=r'-?\\d+'\n",
    "points=re.findall(regex_pattern,text)\n",
    "pt=[]\n",
    "for i in points:\n",
    "    pt.append(int(i))\n",
    "maximum=max(pt)\n",
    "minimum=min(pt)\n",
    "print(maximum-minimum)\n"
   ]
  },
  {
   "cell_type": "code",
   "execution_count": 31,
   "id": "fcc26c08",
   "metadata": {},
   "outputs": [],
   "source": [
    "def valid_variable(text):\n",
    "    regex_pattern=r'^[a-zA-Z_][a-zA-Z0-9_]*$'\n",
    "    if(re.match(regex_pattern,text)):\n",
    "        return True\n",
    "    else:\n",
    "        return False"
   ]
  },
  {
   "cell_type": "code",
   "execution_count": 32,
   "id": "65b1f1ce",
   "metadata": {},
   "outputs": [
    {
     "name": "stdout",
     "output_type": "stream",
     "text": [
      "first_name is valid variable:True\n",
      "first-name is valid variable:False\n",
      "1first_name is valid variable:False\n",
      "firstname is valid variable:True\n"
     ]
    }
   ],
   "source": [
    "list=['first_name','first-name','1first_name','firstname']\n",
    "for text in list:\n",
    "    print(f'{text} is valid variable:{valid_variable(text)}')"
   ]
  },
  {
   "cell_type": "markdown",
   "id": "4ab2078d",
   "metadata": {},
   "source": [
    "<h3>Clean the following text. After cleaning, count three most frequent words in the string.</h3>"
   ]
  },
  {
   "cell_type": "code",
   "execution_count": 38,
   "id": "ad682105",
   "metadata": {},
   "outputs": [
    {
     "name": "stdout",
     "output_type": "stream",
     "text": [
      "Counter({'i': 3, 'a': 2, 'teacher': 2, 'and': 2, 'teaching': 2, 'as': 2, 'more': 2, 'am': 1, 'love': 1, 'there': 1, 'is': 1, 'nothing': 1, 'rewarding': 1, 'educating': 1, 'empowering': 1, 'people': 1, 'found': 1, 'interesting': 1, 'than': 1, 'any': 1, 'other': 1, 'jobs': 1, 'does': 1, 'this': 1, 'motivate': 1, 'you': 1, 'to': 1, 'be': 1})\n",
      "I am a teacher, and I love teaching. There is nothing as more rewarding as educating and empowering people. I found teaching more interesting than any other jobs. Does this motivate you to be a teacher!?\n"
     ]
    }
   ],
   "source": [
    "sentence = '''%I $am@% a %tea@cher%, &and& I lo%#ve %tea@ching%;. There $is nothing; &as& mo@re rewarding as educa@ting &and& @emp%o@wering peo@ple. ;I found tea@ching m%o@re interesting tha@n any other %jo@bs. %Do@es thi%s mo@tivate yo@u to be a tea@cher!?'''\n",
    "\n",
    "regex_pattern=r'[%$@#&;!]'\n",
    "\n",
    "new_sentence=re.sub(regex_pattern,'',sentence)\n",
    "\n",
    "sentence2=re.sub(r'[^a-zA-Z0-9\\s.,!?]','',sentence)\n",
    "\n",
    "words = re.findall(r'\\b\\w+\\b', new_sentence.lower())\n",
    "\n",
    "count=Counter(words)\n",
    "\n",
    "print(count)\n",
    "\n",
    "print(sentence2)\n"
   ]
  },
  {
   "cell_type": "code",
   "execution_count": 39,
   "id": "0453ff13",
   "metadata": {},
   "outputs": [],
   "source": [
    "from mypackages import arithmetic"
   ]
  },
  {
   "cell_type": "code",
   "execution_count": 40,
   "id": "7849fd50",
   "metadata": {},
   "outputs": [
    {
     "data": {
      "text/plain": [
       "11"
      ]
     },
     "execution_count": 40,
     "metadata": {},
     "output_type": "execute_result"
    }
   ],
   "source": [
    "arithmetic.add_numbers(1, 2, 3, 5)"
   ]
  },
  {
   "cell_type": "code",
   "execution_count": null,
   "id": "c6d86d3f",
   "metadata": {},
   "outputs": [],
   "source": []
  }
 ],
 "metadata": {
  "kernelspec": {
   "display_name": "base",
   "language": "python",
   "name": "python3"
  },
  "language_info": {
   "codemirror_mode": {
    "name": "ipython",
    "version": 3
   },
   "file_extension": ".py",
   "mimetype": "text/x-python",
   "name": "python",
   "nbconvert_exporter": "python",
   "pygments_lexer": "ipython3",
   "version": "3.9.7"
  }
 },
 "nbformat": 4,
 "nbformat_minor": 5
}
