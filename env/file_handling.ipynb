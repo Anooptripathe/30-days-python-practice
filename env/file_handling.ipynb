{
 "cells": [
  {
   "cell_type": "code",
   "execution_count": 4,
   "id": "bbb80741",
   "metadata": {},
   "outputs": [
    {
     "name": "stdout",
     "output_type": "stream",
     "text": [
      "Hello!\n",
      "Welcome to file handling.\n"
     ]
    }
   ],
   "source": [
    "# Create and write to a file\n",
    "with open(\"sample.txt\", \"w\") as f:\n",
    "    f.write(\"Hello!\\nWelcome to file handling.\")\n",
    "\n",
    "with open(\"sample.txt\",\"r\") as f:\n",
    "    content=f.read()\n",
    "    print(content)"
   ]
  },
  {
   "cell_type": "code",
   "execution_count": 5,
   "id": "15c3cd44",
   "metadata": {},
   "outputs": [
    {
     "name": "stdout",
     "output_type": "stream",
     "text": [
      "Using readline(): Hello!\n",
      "\n",
      "Using readlines(): ['Welcome to file handling.']\n"
     ]
    }
   ],
   "source": [
    "with open(\"sample.txt\", \"r\") as f:\n",
    "    print(\"Using readline():\", f.readline())\n",
    "    print(\"Using readlines():\", f.readlines())"
   ]
  },
  {
   "cell_type": "code",
   "execution_count": 6,
   "id": "69c1d856",
   "metadata": {},
   "outputs": [
    {
     "name": "stdout",
     "output_type": "stream",
     "text": [
      "Hello!\n",
      "Welcome to file handling.\n",
      "This line was appended.\n"
     ]
    }
   ],
   "source": [
    "with open(\"sample.txt\", \"a\") as f:\n",
    "    f.write(\"\\nThis line was appended.\")\n",
    "\n",
    "# Verify\n",
    "with open(\"sample.txt\", \"r\") as f:\n",
    "    print(f.read())\n"
   ]
  },
  {
   "cell_type": "code",
   "execution_count": 7,
   "id": "b0c80e02",
   "metadata": {},
   "outputs": [
    {
     "name": "stdout",
     "output_type": "stream",
     "text": [
      "File not found. Please check the path.\n"
     ]
    }
   ],
   "source": [
    "try:\n",
    "    with open(\"missing.txt\", \"r\") as f:\n",
    "        print(f.read())\n",
    "except FileNotFoundError:\n",
    "    print(\"File not found. Please check the path.\")\n"
   ]
  },
  {
   "cell_type": "code",
   "execution_count": 8,
   "id": "22083e46",
   "metadata": {},
   "outputs": [
    {
     "name": "stdout",
     "output_type": "stream",
     "text": [
      "Current Position: 0\n",
      "After seek(6): \n",
      "Welcome to file handling.\n",
      "This line was appended.\n"
     ]
    }
   ],
   "source": [
    "with open(\"sample.txt\", \"r\") as f:\n",
    "    print(f\"Current Position: {f.tell()}\")\n",
    "    f.seek(6)\n",
    "    print(f\"After seek(6): {f.read()}\")\n"
   ]
  },
  {
   "cell_type": "code",
   "execution_count": 9,
   "id": "e364cf68",
   "metadata": {},
   "outputs": [
    {
     "name": "stdout",
     "output_type": "stream",
     "text": [
      "{'name': 'Anoop', 'age': 25}\n"
     ]
    }
   ],
   "source": [
    "import json\n",
    "\n",
    "data = {\"name\": \"Anoop\", \"age\": 25}\n",
    "with open(\"data.json\", \"w\") as f:\n",
    "    json.dump(data, f)\n",
    "\n",
    "# Read\n",
    "with open(\"data.json\", \"r\") as f:\n",
    "    loaded = json.load(f)\n",
    "    print(loaded)\n"
   ]
  },
  {
   "cell_type": "code",
   "execution_count": null,
   "id": "522738d0",
   "metadata": {},
   "outputs": [],
   "source": []
  }
 ],
 "metadata": {
  "kernelspec": {
   "display_name": "base",
   "language": "python",
   "name": "python3"
  },
  "language_info": {
   "codemirror_mode": {
    "name": "ipython",
    "version": 3
   },
   "file_extension": ".py",
   "mimetype": "text/x-python",
   "name": "python",
   "nbconvert_exporter": "python",
   "pygments_lexer": "ipython3",
   "version": "3.9.7"
  }
 },
 "nbformat": 4,
 "nbformat_minor": 5
}
