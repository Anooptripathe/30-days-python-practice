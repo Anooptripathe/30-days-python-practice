{
 "cells": [
  {
   "cell_type": "code",
   "execution_count": null,
   "id": "d18223de",
   "metadata": {},
   "outputs": [],
   "source": [
    "import pandas as pd"
   ]
  },
  {
   "cell_type": "code",
   "execution_count": null,
   "id": "d1a5a8b0",
   "metadata": {},
   "outputs": [],
   "source": [
    "df=pd.read_csv(r'C:\\Users\\reena\\Downloads\\PastHires.csv')\n",
    "df"
   ]
  },
  {
   "cell_type": "code",
   "execution_count": null,
   "id": "e25bbfc1",
   "metadata": {},
   "outputs": [],
   "source": [
    "df1=pd.melt(df,id_vars=[\"Days\"],var_name='City',value_name='Temp')\n",
    "df1"
   ]
  },
  {
   "cell_type": "code",
   "execution_count": null,
   "id": "b1173ce1",
   "metadata": {},
   "outputs": [],
   "source": [
    "df1[df1['City']=='Siwan']"
   ]
  },
  {
   "cell_type": "code",
   "execution_count": null,
   "id": "1fc432c6",
   "metadata": {},
   "outputs": [],
   "source": [
    "df_survey=pd.read_excel(r\"C:\\Users\\reena\\Downloads\\survey.xls\")\n",
    "df_survey"
   ]
  },
  {
   "cell_type": "code",
   "execution_count": null,
   "id": "b5d84d99",
   "metadata": {},
   "outputs": [],
   "source": [
    "df_nationality=pd.crosstab(df_survey.Nationality,df_survey.Handedness)\n",
    "df_nationality"
   ]
  },
  {
   "cell_type": "code",
   "execution_count": null,
   "id": "76ff67b3",
   "metadata": {},
   "outputs": [],
   "source": [
    "df_gender=pd.crosstab(df_survey.Sex,df_survey.Handedness)\n",
    "df_gender"
   ]
  },
  {
   "cell_type": "code",
   "execution_count": null,
   "id": "4a1c971b",
   "metadata": {},
   "outputs": [],
   "source": [
    "pd.crosstab([df_survey.Nationality,df_survey.Sex],df_survey.Handedness)"
   ]
  },
  {
   "cell_type": "code",
   "execution_count": null,
   "id": "443b7c8c",
   "metadata": {},
   "outputs": [],
   "source": [
    "df_gender=pd.crosstab(df_survey.Sex,df_survey.Handedness,normalize='index')\n",
    "df_gender"
   ]
  },
  {
   "cell_type": "code",
   "execution_count": null,
   "id": "67234138",
   "metadata": {},
   "outputs": [],
   "source": [
    "# to find avg age\n",
    "import numpy as np\n",
    "pd.crosstab(df_survey.Sex,df_survey.Handedness,values=df_survey.Age,aggfunc=np.average)"
   ]
  },
  {
   "cell_type": "code",
   "execution_count": null,
   "id": "bed60d62",
   "metadata": {},
   "outputs": [],
   "source": [
    "import mysql.connector"
   ]
  },
  {
   "cell_type": "code",
   "execution_count": null,
   "id": "6abb412c",
   "metadata": {},
   "outputs": [],
   "source": [
    "mydb=mysql.connector.connect(host=\"localhost\",user=\"root\",passwd=\"Anoop1023@\")"
   ]
  },
  {
   "cell_type": "code",
   "execution_count": null,
   "id": "7c2673bb",
   "metadata": {},
   "outputs": [],
   "source": [
    "pip install mysql-connector-python --upgrade\n"
   ]
  },
  {
   "cell_type": "code",
   "execution_count": 1,
   "id": "f8a2a1f0",
   "metadata": {},
   "outputs": [
    {
     "ename": "",
     "evalue": "",
     "output_type": "error",
     "traceback": [
      "\u001b[1;31mThe Kernel crashed while executing code in the current cell or a previous cell. \n",
      "\u001b[1;31mPlease review the code in the cell(s) to identify a possible cause of the failure. \n",
      "\u001b[1;31mClick <a href='https://aka.ms/vscodeJupyterKernelCrash'>here</a> for more info. \n",
      "\u001b[1;31mView Jupyter <a href='command:jupyter.viewOutput'>log</a> for further details."
     ]
    }
   ],
   "source": [
    "import mysql.connector\n",
    "\n",
    "mydb = mysql.connector.connect(\n",
    "    host=\"localhost\",\n",
    "    user=\"root\",\n",
    "    passwd=\"Anoop1023@\"\n",
    ")\n",
    "\n",
    "print(\"Connected successfully!\")\n"
   ]
  },
  {
   "cell_type": "code",
   "execution_count": null,
   "id": "2f1b6174",
   "metadata": {},
   "outputs": [],
   "source": []
  }
 ],
 "metadata": {
  "kernelspec": {
   "display_name": "base",
   "language": "python",
   "name": "python3"
  },
  "language_info": {
   "codemirror_mode": {
    "name": "ipython",
    "version": 3
   },
   "file_extension": ".py",
   "mimetype": "text/x-python",
   "name": "python",
   "nbconvert_exporter": "python",
   "pygments_lexer": "ipython3",
   "version": "3.9.7"
  }
 },
 "nbformat": 4,
 "nbformat_minor": 5
}
