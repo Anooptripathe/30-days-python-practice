{
 "cells": [
  {
   "cell_type": "markdown",
   "id": "6abac48d",
   "metadata": {},
   "source": [
    "<h5>Difference between is and == operator </h5>"
   ]
  },
  {
   "cell_type": "code",
   "execution_count": 1,
   "id": "b11bbf72",
   "metadata": {},
   "outputs": [
    {
     "name": "stdout",
     "output_type": "stream",
     "text": [
      "False\n",
      "True\n"
     ]
    }
   ],
   "source": [
    "x=[1,2,3]\n",
    "y=[1,2,3]\n",
    "print(x is y)\n",
    "print(x==y)"
   ]
  },
  {
   "cell_type": "markdown",
   "id": "2079bc12",
   "metadata": {},
   "source": [
    "<h5>Remove duplicates of list </h5>"
   ]
  },
  {
   "cell_type": "code",
   "execution_count": 2,
   "id": "dd52eee6",
   "metadata": {},
   "outputs": [
    {
     "name": "stdout",
     "output_type": "stream",
     "text": [
      "[3, 7, 9, 1, 2, 5]\n"
     ]
    }
   ],
   "source": [
    "def remove_duplicates(lst):\n",
    "    seen = set()\n",
    "    result=[]\n",
    "    for x in lst:\n",
    "        if not x in seen:\n",
    "            seen.add(x)\n",
    "            result.append(x)\n",
    "    return result\n",
    "    # return [x for x in lst if not (x in seen or seen.add(x))]\n",
    "\n",
    "\n",
    "lst=[3,7,3,9,1,2,1,5,5]\n",
    "print(remove_duplicates(lst))"
   ]
  },
  {
   "cell_type": "markdown",
   "id": "18f92f97",
   "metadata": {},
   "source": [
    "<h5>Q2. Flatten dictionary of lists</h5>"
   ]
  },
  {
   "cell_type": "code",
   "execution_count": 3,
   "id": "a16dc1b5",
   "metadata": {},
   "outputs": [
    {
     "name": "stdout",
     "output_type": "stream",
     "text": [
      "[1, 2, 3, 4, 5]\n"
     ]
    }
   ],
   "source": [
    "data = {'a': [1, 2], 'b': [3], 'c': [4, 5]}\n",
    "result=[]\n",
    "for sublist in data.values():\n",
    "    for item in sublist:\n",
    "        result.append(item)\n",
    "print(result)\n",
    "\n",
    " "
   ]
  },
  {
   "cell_type": "markdown",
   "id": "38ee3f4d",
   "metadata": {},
   "source": [
    "<h5>Self in python </h5>"
   ]
  },
  {
   "cell_type": "code",
   "execution_count": 4,
   "id": "539d3263",
   "metadata": {},
   "outputs": [
    {
     "name": "stdout",
     "output_type": "stream",
     "text": [
      "Maths\n",
      "Science\n"
     ]
    }
   ],
   "source": [
    "class Subject:\n",
    "\n",
    "    def __init__(self, attr1, attr2):\n",
    "        self.attr1 = attr1\n",
    "        self.attr2 = attr2\n",
    "\n",
    "\n",
    "obj = Subject('Maths', 'Science')\n",
    "print(obj.attr1)  \n",
    "print(obj.attr2)"
   ]
  },
  {
   "cell_type": "markdown",
   "id": "428f20d9",
   "metadata": {},
   "source": [
    "<h6>Learning Dictionary </h6>"
   ]
  },
  {
   "cell_type": "code",
   "execution_count": 5,
   "id": "7e9332e4",
   "metadata": {},
   "outputs": [
    {
     "name": "stdout",
     "output_type": "stream",
     "text": [
      "{1: 'Anoop', 2: 'Raj', 3: 'Ankita'}\n"
     ]
    }
   ],
   "source": [
    "keys=[1,2,3]\n",
    "values=['Anoop','Raj','Ankita']\n",
    "data=dict(zip(keys,values))\n",
    "print(data)"
   ]
  },
  {
   "cell_type": "code",
   "execution_count": 6,
   "id": "ff634200",
   "metadata": {},
   "outputs": [
    {
     "name": "stdout",
     "output_type": "stream",
     "text": [
      "73\n"
     ]
    }
   ],
   "source": [
    "def sum(a,*b): # variable length argument with no keyword\n",
    "    c=a\n",
    "    for i in b:\n",
    "        c+=i\n",
    "    print(c)\n",
    "\n",
    "sum(7,13,19,34)"
   ]
  },
  {
   "cell_type": "code",
   "execution_count": 7,
   "id": "9f9fa821",
   "metadata": {},
   "outputs": [
    {
     "name": "stdout",
     "output_type": "stream",
     "text": [
      "Anoop\n",
      "{'age': 26, 'city': 'Prayagraj', 'mob': 1234}\n",
      "age 26\n",
      "city Prayagraj\n",
      "mob 1234\n"
     ]
    }
   ],
   "source": [
    "def person(name,**data):# variable length with keyword\n",
    "    print(name)\n",
    "    print(data)\n",
    "\n",
    "    for i,j in data.items():\n",
    "        print(i,j)\n",
    "\n",
    "person('Anoop',age=26,city='Prayagraj',mob=1234)"
   ]
  },
  {
   "cell_type": "code",
   "execution_count": 8,
   "id": "fb1ce083",
   "metadata": {},
   "outputs": [
    {
     "name": "stdout",
     "output_type": "stream",
     "text": [
      "count of even: 3\n",
      "count of odd: 6\n"
     ]
    }
   ],
   "source": [
    "def even_odd(lst):\n",
    "    even=0\n",
    "    odd=0\n",
    "    for i in lst:\n",
    "        if(i%2==0):\n",
    "            even+=1\n",
    "        else:\n",
    "            odd+=1\n",
    "    print(f'count of even: {even}')\n",
    "    print(f'count of odd: {odd}')\n",
    "\n",
    "\n",
    "even_odd([1,2,3,4,5,6,7,7,9])"
   ]
  },
  {
   "cell_type": "code",
   "execution_count": 9,
   "id": "c840efb3",
   "metadata": {},
   "outputs": [
    {
     "name": "stdout",
     "output_type": "stream",
     "text": [
      "720\n"
     ]
    }
   ],
   "source": [
    "def factorial(n,prod):\n",
    "    if n==0:\n",
    "        return prod\n",
    "    prod*=n\n",
    "    return factorial(n-1,prod)\n",
    "    \n",
    "\n",
    "\n",
    "\n",
    "\n",
    "\n",
    "print(factorial(6,prod=1))"
   ]
  },
  {
   "cell_type": "code",
   "execution_count": 10,
   "id": "d8367943",
   "metadata": {},
   "outputs": [
    {
     "name": "stdout",
     "output_type": "stream",
     "text": [
      "15\n"
     ]
    }
   ],
   "source": [
    "f=lambda a,b:a+b\n",
    "\n",
    "print(f(7,8))"
   ]
  },
  {
   "cell_type": "markdown",
   "id": "6126fb26",
   "metadata": {},
   "source": []
  },
  {
   "cell_type": "code",
   "execution_count": 11,
   "id": "24709c56",
   "metadata": {},
   "outputs": [
    {
     "name": "stdout",
     "output_type": "stream",
     "text": [
      "[2, 346]\n"
     ]
    }
   ],
   "source": [
    "nums = [1, 2, 3, 45, 346, 89, 13, 5]\n",
    "even_list = list(filter(lambda n: n % 2 == 0, nums))\n",
    "print(even_list)\n"
   ]
  },
  {
   "cell_type": "code",
   "execution_count": 12,
   "id": "2a5f93bf",
   "metadata": {},
   "outputs": [
    {
     "name": "stdout",
     "output_type": "stream",
     "text": [
      "[4, 348]\n"
     ]
    }
   ],
   "source": [
    "doubles=list(map(lambda n:n+2,even_list))\n",
    "print(doubles)"
   ]
  },
  {
   "cell_type": "code",
   "execution_count": 13,
   "id": "dd8ffa51",
   "metadata": {},
   "outputs": [
    {
     "name": "stdout",
     "output_type": "stream",
     "text": [
      "352\n"
     ]
    }
   ],
   "source": [
    "from functools import reduce\n",
    "sum=reduce(lambda a,b:a+b, doubles)\n",
    "print(sum)\n"
   ]
  },
  {
   "cell_type": "code",
   "execution_count": 1,
   "id": "75777479",
   "metadata": {},
   "outputs": [
    {
     "name": "stdout",
     "output_type": "stream",
     "text": [
      "[1, 3, 45, 89, 13, 5]\n"
     ]
    }
   ],
   "source": [
    "nums = [1, 2, 3, 45, 346, 89, 13, 5]\n",
    "odd_list = list(filter(lambda n: n % 2 != 0, nums))\n",
    "print(odd_list)"
   ]
  },
  {
   "cell_type": "code",
   "execution_count": null,
   "id": "bdf1091b",
   "metadata": {},
   "outputs": [],
   "source": []
  }
 ],
 "metadata": {
  "kernelspec": {
   "display_name": "base",
   "language": "python",
   "name": "python3"
  },
  "language_info": {
   "codemirror_mode": {
    "name": "ipython",
    "version": 3
   },
   "file_extension": ".py",
   "mimetype": "text/x-python",
   "name": "python",
   "nbconvert_exporter": "python",
   "pygments_lexer": "ipython3",
   "version": "3.9.7"
  }
 },
 "nbformat": 4,
 "nbformat_minor": 5
}
