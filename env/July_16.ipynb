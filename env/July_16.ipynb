{
 "cells": [
  {
   "cell_type": "markdown",
   "id": "97c17d23",
   "metadata": {},
   "source": [
    "<h5>Parse and Flatten Nested Dictionary</h5>"
   ]
  },
  {
   "cell_type": "code",
   "execution_count": 4,
   "id": "8796ad52",
   "metadata": {},
   "outputs": [
    {
     "name": "stdout",
     "output_type": "stream",
     "text": [
      "key:a\n",
      "key:b\n",
      "value:1\n",
      "value:{'c': 2, 'd': {'e': 3}}\n",
      "a:1\n",
      "b:{'c': 2, 'd': {'e': 3}}\n"
     ]
    }
   ],
   "source": [
    "input = {'a': 1, 'b': {'c': 2, 'd': {'e': 3}}}\n",
    "for key in input:\n",
    "    print(f\"key:{key}\")\n",
    "\n",
    "for value in input.values():\n",
    "    print(f\"value:{value}\")\n",
    "\n",
    "for key,value in input.items():\n",
    "    print(f\"{key}:{value}\")\n"
   ]
  },
  {
   "cell_type": "code",
   "execution_count": 5,
   "id": "7d852e72",
   "metadata": {},
   "outputs": [],
   "source": [
    "def flatten_dict(d, parent_key='', sep='.'):\n",
    "    items = {}\n",
    "    for key, value in d.items():\n",
    "        new_key = parent_key + sep + key if parent_key else key\n",
    "        if isinstance(value, dict):\n",
    "            items.update(flatten_dict(value, new_key, sep=sep))\n",
    "        else:\n",
    "            items[new_key] = value\n",
    "    return items"
   ]
  },
  {
   "cell_type": "code",
   "execution_count": 6,
   "id": "d66d46e2",
   "metadata": {},
   "outputs": [
    {
     "name": "stdout",
     "output_type": "stream",
     "text": [
      "{'a': 1, 'b.c': 2, 'b.d.e': 3}\n"
     ]
    }
   ],
   "source": [
    "output = flatten_dict(input)\n",
    "print(output)"
   ]
  },
  {
   "cell_type": "code",
   "execution_count": 7,
   "id": "d56cec6b",
   "metadata": {},
   "outputs": [
    {
     "name": "stdout",
     "output_type": "stream",
     "text": [
      "{'a': 1, 'b.c': 2, 'b.d.e': 3}\n"
     ]
    }
   ],
   "source": [
    "import pandas as pd\n",
    "df = pd.json_normalize(input, sep='.')\n",
    "print(df.to_dict(orient='records')[0])"
   ]
  },
  {
   "cell_type": "code",
   "execution_count": null,
   "id": "d36178d9",
   "metadata": {},
   "outputs": [],
   "source": []
  }
 ],
 "metadata": {
  "kernelspec": {
   "display_name": "base",
   "language": "python",
   "name": "python3"
  },
  "language_info": {
   "codemirror_mode": {
    "name": "ipython",
    "version": 3
   },
   "file_extension": ".py",
   "mimetype": "text/x-python",
   "name": "python",
   "nbconvert_exporter": "python",
   "pygments_lexer": "ipython3",
   "version": "3.9.7"
  }
 },
 "nbformat": 4,
 "nbformat_minor": 5
}
