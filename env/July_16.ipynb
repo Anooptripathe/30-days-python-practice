{
 "cells": [
  {
   "cell_type": "markdown",
   "id": "97c17d23",
   "metadata": {},
   "source": [
    "<h5>Parse and Flatten Nested Dictionary</h5>"
   ]
  },
  {
   "cell_type": "code",
   "execution_count": 4,
   "id": "8796ad52",
   "metadata": {},
   "outputs": [
    {
     "name": "stdout",
     "output_type": "stream",
     "text": [
      "key:a\n",
      "key:b\n",
      "value:1\n",
      "value:{'c': 2, 'd': {'e': 3}}\n",
      "a:1\n",
      "b:{'c': 2, 'd': {'e': 3}}\n"
     ]
    }
   ],
   "source": [
    "input = {'a': 1, 'b': {'c': 2, 'd': {'e': 3}}}\n",
    "for key in input:\n",
    "    print(f\"key:{key}\")\n",
    "\n",
    "for value in input.values():\n",
    "    print(f\"value:{value}\")\n",
    "\n",
    "for key,value in input.items():\n",
    "    print(f\"{key}:{value}\")\n"
   ]
  },
  {
   "cell_type": "code",
   "execution_count": 5,
   "id": "7d852e72",
   "metadata": {},
   "outputs": [],
   "source": [
    "def flatten_dict(d, parent_key='', sep='.'):\n",
    "    items = {}\n",
    "    for key, value in d.items():\n",
    "        new_key = parent_key + sep + key if parent_key else key\n",
    "        if isinstance(value, dict):\n",
    "            items.update(flatten_dict(value, new_key, sep=sep))\n",
    "        else:\n",
    "            items[new_key] = value\n",
    "    return items"
   ]
  },
  {
   "cell_type": "code",
   "execution_count": 6,
   "id": "d66d46e2",
   "metadata": {},
   "outputs": [
    {
     "name": "stdout",
     "output_type": "stream",
     "text": [
      "{'a': 1, 'b.c': 2, 'b.d.e': 3}\n"
     ]
    }
   ],
   "source": [
    "output = flatten_dict(input)\n",
    "print(output)"
   ]
  },
  {
   "cell_type": "code",
   "execution_count": 7,
   "id": "d56cec6b",
   "metadata": {},
   "outputs": [
    {
     "name": "stdout",
     "output_type": "stream",
     "text": [
      "{'a': 1, 'b.c': 2, 'b.d.e': 3}\n"
     ]
    }
   ],
   "source": [
    "import pandas as pd\n",
    "df = pd.json_normalize(input, sep='.')\n",
    "print(df.to_dict(orient='records')[0])"
   ]
  },
  {
   "cell_type": "markdown",
   "id": "39afd541",
   "metadata": {},
   "source": [
    "<h5>2. Find Top N Frequent Elements</h5>"
   ]
  },
  {
   "cell_type": "code",
   "execution_count": 8,
   "id": "d36178d9",
   "metadata": {},
   "outputs": [],
   "source": [
    "arr = [\"apple\", \"banana\", \"apple\", \"orange\", \"banana\", \"apple\"]\n"
   ]
  },
  {
   "cell_type": "code",
   "execution_count": 11,
   "id": "7adaa8ac",
   "metadata": {},
   "outputs": [
    {
     "data": {
      "text/plain": [
       "['apple', 'banana']"
      ]
     },
     "execution_count": 11,
     "metadata": {},
     "output_type": "execute_result"
    }
   ],
   "source": [
    "from collections import Counter\n",
    "def topNelements(arr,n):\n",
    "    mp=Counter(arr)\n",
    "    freq=list(mp.items())\n",
    "    freq.sort(key=lambda x: (x[1],x[0]),reverse=True)\n",
    "    res=[]\n",
    "    for i in range(n):\n",
    "        res.append(freq[i][0])\n",
    "    return res\n",
    "\n",
    "topNelements(arr,2)"
   ]
  },
  {
   "cell_type": "markdown",
   "id": "7f2ff5aa",
   "metadata": {},
   "source": [
    "<h5>Write a script to split a large .txt file into smaller files with 1000 lines each.</h5>"
   ]
  },
  {
   "cell_type": "code",
   "execution_count": null,
   "id": "f0af0dd7",
   "metadata": {},
   "outputs": [],
   "source": [
    "def generate_large_file(file_name,total_line=10000):\n",
    "    with open(file_name,'w') as f:\n",
    "        for i in range(1,total_line+1):\n",
    "            f.write(f\"This is line {i}\\n\")\n",
    "    print(f\"{file_name} generated with {total_line} lines.\")\n",
    "\n",
    "            \n"
   ]
  },
  {
   "cell_type": "code",
   "execution_count": 16,
   "id": "32d61a64",
   "metadata": {},
   "outputs": [
    {
     "name": "stdout",
     "output_type": "stream",
     "text": [
      "abc.txt generated with 10000 lines.\n",
      "Split complete: 10 files created.\n"
     ]
    }
   ],
   "source": [
    "def split_file(file_name,lines_per_file=1000):\n",
    "    file_count = 1\n",
    "    current_line = 0\n",
    "    output_file = open(f\"abc_part_{file_count}.txt\", 'w')\n",
    "\n",
    "    with open(file_name,'r') as infile:\n",
    "        for line in infile:\n",
    "            if current_line>0 and current_line%lines_per_file==0:\n",
    "                output_file.close()\n",
    "                file_count+=1\n",
    "                output_file = open(f\"abc_part_{file_count}.txt\", 'w')\n",
    "            output_file.write(line)\n",
    "            current_line+=1\n",
    "\n",
    "    output_file.close()\n",
    "    print(f\"Split complete: {file_count} files created.\")\n",
    "\n",
    "\n",
    "\n",
    "if __name__ == \"__main__\":\n",
    "    generate_large_file(\"abc.txt\",total_line=10000)\n",
    "    split_file(\"abc.txt\", lines_per_file=1000)\n",
    "            \n",
    "\n",
    "\n"
   ]
  },
  {
   "cell_type": "markdown",
   "id": "abfd769d",
   "metadata": {},
   "source": [
    "<h5>For a given list, return the max value in every sliding window of size k.</h5>"
   ]
  },
  {
   "cell_type": "code",
   "execution_count": 26,
   "id": "1368274e",
   "metadata": {},
   "outputs": [
    {
     "name": "stdout",
     "output_type": "stream",
     "text": [
      "[3, 3, 5, 5, 6, 7]\n"
     ]
    }
   ],
   "source": [
    "arr=[1,3,-1,-3,5,3,6,7]\n",
    "k = 3\n",
    "i=0\n",
    "j=0\n",
    "n=len(arr)\n",
    "res=[]\n",
    "maxm=-1000000\n",
    "while j<n:\n",
    "    if j - i + 1 < k:\n",
    "        maxm=max(maxm,arr[j])\n",
    "        \n",
    "        \n",
    "        \n",
    "    elif j-i+1==k:\n",
    "        maxm=max(maxm,arr[j])\n",
    "        res.append(maxm)\n",
    "        i+=1\n",
    "    j+=1 \n",
    "    \n",
    "     \n",
    "\n",
    "print(res)\n",
    "\n"
   ]
  },
  {
   "cell_type": "code",
   "execution_count": null,
   "id": "1125dc10",
   "metadata": {},
   "outputs": [],
   "source": []
  }
 ],
 "metadata": {
  "kernelspec": {
   "display_name": "base",
   "language": "python",
   "name": "python3"
  },
  "language_info": {
   "codemirror_mode": {
    "name": "ipython",
    "version": 3
   },
   "file_extension": ".py",
   "mimetype": "text/x-python",
   "name": "python",
   "nbconvert_exporter": "python",
   "pygments_lexer": "ipython3",
   "version": "3.9.7"
  }
 },
 "nbformat": 4,
 "nbformat_minor": 5
}
