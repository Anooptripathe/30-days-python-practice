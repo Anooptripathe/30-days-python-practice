{
 "cells": [
  {
   "cell_type": "markdown",
   "id": "c0cf04ce",
   "metadata": {},
   "source": [
    "<h5>Given a list of integers and a window size k, return a list of the sum of each window</h5>"
   ]
  },
  {
   "cell_type": "code",
   "execution_count": 5,
   "id": "18e9c885",
   "metadata": {},
   "outputs": [
    {
     "name": "stdout",
     "output_type": "stream",
     "text": [
      "[3, -1, 1, 5, 14, 16]\n"
     ]
    }
   ],
   "source": [
    "nums = [1, 3, -1, -3, 5, 3, 6, 7]\n",
    "k = 3\n",
    "\n",
    "i=0\n",
    "j=0\n",
    "n=len(nums)\n",
    "result=[]\n",
    "sum=0\n",
    "while(i<=j and j<n):\n",
    "    if(j-i+1<=k):\n",
    "        sum+=nums[j]\n",
    "        j+=1\n",
    "    else:\n",
    "        result.append(sum)\n",
    "        sum-=nums[i]\n",
    "        i+=1\n",
    "result.append(sum)\n",
    "        \n",
    "print(result)"
   ]
  },
  {
   "cell_type": "markdown",
   "id": "970f9eac",
   "metadata": {},
   "source": [
    "<h5>Given a list of integers and a window size k, return a list of the maximum values in each sliding window of size k.</h5>"
   ]
  },
  {
   "cell_type": "code",
   "execution_count": 10,
   "id": "7570d66d",
   "metadata": {},
   "outputs": [
    {
     "name": "stdout",
     "output_type": "stream",
     "text": [
      "[3, 3, 5, 5, 6, 7]\n"
     ]
    }
   ],
   "source": [
    "nums = [1, 3, -1, -3, 5, 3, 6, 7]\n",
    "k = 3\n",
    "i=0\n",
    "j=0\n",
    "n=len(nums)\n",
    "result=[]\n",
    "maxm=0\n",
    "while(i<=j and j<n):\n",
    "    if(j-i+1<=k):\n",
    "        maxm=max(maxm,nums[j])\n",
    "        j+=1\n",
    "    else:\n",
    "        result.append(maxm)\n",
    "        i+=1\n",
    "result.append(maxm)\n",
    "print(result)\n",
    "    "
   ]
  },
  {
   "cell_type": "markdown",
   "id": "31df0627",
   "metadata": {},
   "source": [
    "<h5>2. First Negative Number in Every Window of Size K</h5>\n"
   ]
  },
  {
   "cell_type": "code",
   "execution_count": null,
   "id": "489e8321",
   "metadata": {},
   "outputs": [],
   "source": [
    "from collections import deque\n",
    "result=[]\n",
    "def collect_negative_window(arr,k):\n",
    "    q=deque()\n",
    "    for i in range(len(arr)):\n",
    "        while q and q[0]>i-k+1:\n",
    "            q.popleft()\n",
    "\n",
    "        if(arr[i]<0):\n",
    "            q.append(i)\n",
    "\n",
    "        if i>=k-1:\n",
    "            if q:\n",
    "                result.append(arr[q[0]])\n",
    "\n",
    "            else:\n",
    "                result.append(0)\n",
    "    return result\n",
    "\n"
   ]
  },
  {
   "cell_type": "code",
   "execution_count": 12,
   "id": "d2234228",
   "metadata": {},
   "outputs": [
    {
     "name": "stdout",
     "output_type": "stream",
     "text": [
      "[-7, 0, -15, 0, 0, 0]\n"
     ]
    }
   ],
   "source": [
    "arr = [12, -1, -7, 8, -15, 30, 16, 28]\n",
    "k = 3\n",
    "print(collect_negative_window(arr, k))"
   ]
  },
  {
   "cell_type": "markdown",
   "id": "367bfbb1",
   "metadata": {},
   "source": [
    "<h5>Count of Distinct Elements in Every Window</h5>"
   ]
  },
  {
   "cell_type": "code",
   "execution_count": 14,
   "id": "1f9fda1c",
   "metadata": {},
   "outputs": [],
   "source": [
    "from collections import defaultdict\n",
    "\n",
    "\n",
    "def count_distinct_in_window(arr,k):\n",
    "    i=0 \n",
    "    j=0\n",
    "    freq_map = defaultdict(int)\n",
    "    result=[]\n",
    "    while(i<=j and j<len(arr)):\n",
    "        if(j-i+1<=k):\n",
    "            freq_map[arr[j]]+=1\n",
    "            j+=1\n",
    "        else:\n",
    "            result.append(len(freq_map))\n",
    "            freq_map[arr[i]]-=1\n",
    "            if(freq_map[arr[i]]==0):\n",
    "                del(freq_map[arr[i]])\n",
    "            i+=1\n",
    "    result.append(len(freq_map))\n",
    "    return result\n",
    "\n"
   ]
  },
  {
   "cell_type": "code",
   "execution_count": 18,
   "id": "8e1e775d",
   "metadata": {},
   "outputs": [
    {
     "name": "stdout",
     "output_type": "stream",
     "text": [
      "[3, 4, 4, 3]\n"
     ]
    }
   ],
   "source": [
    "arr=[1, 2, 1, 3, 4, 2, 3]\n",
    "k = 4\n",
    "print(count_distinct_in_window(arr,k))"
   ]
  },
  {
   "cell_type": "code",
   "execution_count": null,
   "id": "ebca43cb",
   "metadata": {},
   "outputs": [],
   "source": []
  }
 ],
 "metadata": {
  "kernelspec": {
   "display_name": "base",
   "language": "python",
   "name": "python3"
  },
  "language_info": {
   "codemirror_mode": {
    "name": "ipython",
    "version": 3
   },
   "file_extension": ".py",
   "mimetype": "text/x-python",
   "name": "python",
   "nbconvert_exporter": "python",
   "pygments_lexer": "ipython3",
   "version": "3.9.7"
  }
 },
 "nbformat": 4,
 "nbformat_minor": 5
}
