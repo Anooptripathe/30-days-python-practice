{
 "cells": [
  {
   "cell_type": "markdown",
   "id": "812a08bf",
   "metadata": {},
   "source": [
    "<h5>Constructor and Self </h5?>"
   ]
  },
  {
   "cell_type": "code",
   "execution_count": 3,
   "id": "0d3a7f97",
   "metadata": {},
   "outputs": [
    {
     "name": "stdout",
     "output_type": "stream",
     "text": [
      "Navin\n",
      "Navin\n",
      "Anoop\n",
      "True\n"
     ]
    }
   ],
   "source": [
    "class detail:\n",
    "    def __init__(self):\n",
    "        self.name=\"Navin\"\n",
    "        self.age='31'\n",
    "\n",
    "    def update(self):\n",
    "        self.name=\"Anoop\"\n",
    "\n",
    "    def compare(self,c2):\n",
    "        if self.age==c2.age:\n",
    "            return True\n",
    "        else:\n",
    "            return False\n",
    "c1=detail()\n",
    "c2=detail()\n",
    "print(c1.name)\n",
    "print(c2.name)\n",
    "c1.update()\n",
    "print(c1.name)\n",
    "print(c1.compare(c2))"
   ]
  },
  {
   "cell_type": "markdown",
   "id": "afbdc8bf",
   "metadata": {},
   "source": [
    "<h5>Instance Variable and class(static) Variable</h5>"
   ]
  },
  {
   "cell_type": "code",
   "execution_count": 5,
   "id": "06acb026",
   "metadata": {},
   "outputs": [
    {
     "name": "stdout",
     "output_type": "stream",
     "text": [
      "Punch 12\n",
      "Punch 12\n",
      "Nexon 12\n",
      "5 5\n"
     ]
    }
   ],
   "source": [
    "class car:\n",
    "\n",
    "    wheels=4               # variable declared inside class but outside init is class or static variable \n",
    "\n",
    "    def __init__(self):    # variable declared inside init in instance variable\n",
    "        self.mileage=12\n",
    "        self.name=\"Punch\"\n",
    "\n",
    "c1=car()\n",
    "c2=car()\n",
    "print(c1.name,c1.mileage)\n",
    "print(c2.name,c2.mileage)\n",
    "\n",
    "car.wheels=5     # always access class variable with class name\n",
    "\n",
    "c1.name=\"Nexon\"\n",
    "print(c1.name,c2.mileage)  # Instance variable can change with every object and it will not effect other one\n",
    "print(c1.wheels,c2.wheels)"
   ]
  },
  {
   "cell_type": "markdown",
   "id": "a01e93dc",
   "metadata": {},
   "source": [
    "<h5>Instance method, Class method and Static method </h5>"
   ]
  },
  {
   "cell_type": "code",
   "execution_count": 8,
   "id": "ac467a36",
   "metadata": {},
   "outputs": [
    {
     "name": "stdout",
     "output_type": "stream",
     "text": [
      "37.0\n",
      "<bound method student.avg of <__main__.student object at 0x000001A5D15B23D0>>\n",
      "School name is : St.John's co-ed school\n",
      "This has nothing to do with instance and class so it is Static method\n",
      "None\n"
     ]
    }
   ],
   "source": [
    "class student:\n",
    "\n",
    "    school_name=\"St.John's co-ed school\"\n",
    "    \n",
    "    def __init__(self,m1,m2,m3): # instance method it has used self keyword\n",
    "        self.m1=m1\n",
    "        self.m2=m2\n",
    "        self.m3=m3\n",
    "       \n",
    "    def avg(self):\n",
    "        return (self.m1+self.m2+self.m3)/3   \n",
    "       \n",
    "        \n",
    "    @classmethod\n",
    "    def getSchoolName(cls):   # class method if it has used keyword cls\n",
    "        return cls.school_name\n",
    "    \n",
    "    @staticmethod\n",
    "    def time_table():\n",
    "        print(\"This has nothing to do with instance and class so it is Static method\")\n",
    "\n",
    "\n",
    "s1=student(35,36,40)\n",
    "s2=student(45,57,34)\n",
    "print(s1.avg())\n",
    "print(s2.avg)\n",
    "print(f\"School name is : {student.getSchoolName()}\")\n",
    "print(s1.time_table())\n",
    "    \n"
   ]
  },
  {
   "cell_type": "markdown",
   "id": "f363346c",
   "metadata": {},
   "source": [
    "<h5>Polymorphism- Duck Typing</h5>"
   ]
  },
  {
   "cell_type": "code",
   "execution_count": 13,
   "id": "d788ba0e",
   "metadata": {},
   "outputs": [
    {
     "name": "stdout",
     "output_type": "stream",
     "text": [
      "Write\n",
      "edit\n",
      "run\n"
     ]
    }
   ],
   "source": [
    "class VScode:\n",
    "    def execute(self):\n",
    "        print(\"Compiling\")\n",
    "        print(\"Running\")\n",
    "\n",
    "class Notepad:\n",
    "    def execute(self):\n",
    "        print(\"Write\")\n",
    "        print(\"edit\")\n",
    "        print(\"run\")\n",
    "\n",
    "class laptop():\n",
    "    def code(self,ide):\n",
    "        (ide.execute())  \n",
    "\n",
    "#ide=VScode()\n",
    "ide=Notepad()\n",
    "l1=laptop()\n",
    "l1.code(ide)      "
   ]
  },
  {
   "cell_type": "code",
   "execution_count": null,
   "id": "8be0df77",
   "metadata": {},
   "outputs": [],
   "source": []
  },
  {
   "cell_type": "code",
   "execution_count": null,
   "id": "869d00be",
   "metadata": {},
   "outputs": [],
   "source": []
  }
 ],
 "metadata": {
  "kernelspec": {
   "display_name": "base",
   "language": "python",
   "name": "python3"
  },
  "language_info": {
   "codemirror_mode": {
    "name": "ipython",
    "version": 3
   },
   "file_extension": ".py",
   "mimetype": "text/x-python",
   "name": "python",
   "nbconvert_exporter": "python",
   "pygments_lexer": "ipython3",
   "version": "3.9.7"
  }
 },
 "nbformat": 4,
 "nbformat_minor": 5
}
